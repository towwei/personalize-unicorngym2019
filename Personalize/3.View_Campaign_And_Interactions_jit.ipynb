{
 "cells": [
  {
   "cell_type": "markdown",
   "metadata": {},
   "source": [
    "# View Campaign and Interactions\n",
    "\n",
    "In the first notebook `Personalize_BuildCampaign.ipynb` you successfully built and deployed a recommendation model using deep learning with Amazon Personalize.\n",
    "\n",
    "This notebook will expand on that and will walk you through adding the ability to react to real time behavior of users. If their intent changes while browsing a movie, you will see revised recommendations based on that behavior.\n",
    "\n",
    "It will also showcase demo code for simulating user behavior selecting movies before the recommendations are returned."
   ]
  },
  {
   "cell_type": "markdown",
   "metadata": {
    "jupyter": {
     "source_hidden": true
    }
   },
   "source": [
    "Below we start with just importing libraries that we need to interact with Personalize"
   ]
  },
  {
   "cell_type": "code",
   "execution_count": 1,
   "metadata": {},
   "outputs": [],
   "source": [
    "# Imports\n",
    "import boto3\n",
    "import json\n",
    "import numpy as np\n",
    "import pandas as pd\n",
    "import time\n",
    "import uuid"
   ]
  },
  {
   "cell_type": "markdown",
   "metadata": {},
   "source": [
    "The line below will retrieve your shared variables from the first notebook."
   ]
  },
  {
   "cell_type": "code",
   "execution_count": 2,
   "metadata": {},
   "outputs": [],
   "source": [
    "%store -r"
   ]
  },
  {
   "cell_type": "code",
   "execution_count": 3,
   "metadata": {},
   "outputs": [],
   "source": [
    "# Setup and Config\n",
    "# Recommendations from Event data\n",
    "personalize = boto3.client('personalize')\n",
    "personalize_runtime = boto3.client('personalize-runtime')\n",
    "\n",
    "# Establish a connection to Personalize's Event Streaming\n",
    "personalize_events = boto3.client(service_name='personalize-events')"
   ]
  },
  {
   "cell_type": "markdown",
   "metadata": {},
   "source": [
    "## Creating an Event Tracker\n",
    "\n",
    "Before your recommendation system can respond to real time events you will need an event tracker, the code below will generate one and can be used going forward with this lab. Feel free to name it something more clever."
   ]
  },
  {
   "cell_type": "code",
   "execution_count": 11,
   "metadata": {},
   "outputs": [
    {
     "name": "stdout",
     "output_type": "stream",
     "text": [
      "arn:aws:personalize:us-east-1:387269085412:event-tracker/c50b14e7\n",
      "8b1ce80f-3c86-4924-aaeb-f4a7bb992a53\n"
     ]
    }
   ],
   "source": [
    "response = personalize.create_event_tracker(\n",
    "    name='AllstoreClickTracker',\n",
    "    datasetGroupArn=dataset_group_arn\n",
    ")\n",
    "print(response['eventTrackerArn'])\n",
    "print(response['trackingId'])\n",
    "TRACKING_ID = response['trackingId']"
   ]
  },
  {
   "cell_type": "code",
   "execution_count": 12,
   "metadata": {},
   "outputs": [],
   "source": [
    "# Please note one Dataset Group can only have one \"event tracker\"."
   ]
  },
  {
   "cell_type": "code",
   "execution_count": 13,
   "metadata": {},
   "outputs": [],
   "source": [
    "event_tracker_arn = response['eventTrackerArn']"
   ]
  },
  {
   "cell_type": "markdown",
   "metadata": {},
   "source": [
    "## Configuring Source Data\n",
    "\n",
    "Above you'll see your tracking ID and this has been assigned to a variable so no further action is needed by you. The lines below are going to setup the data used for recommendations so you can render the list of Allstore products later."
   ]
  },
  {
   "cell_type": "code",
   "execution_count": 20,
   "metadata": {},
   "outputs": [],
   "source": [
    "# First load items into memory\n",
    "items = pd.read_csv('s3://personalizedemoaseanunicorngymq419/convertcsv.csv', sep='|', usecols=[0,1], encoding='latin-1', names=['ITEM_ID', 'TITLE'], index_col='ITEM_ID')\n",
    "\n",
    "def get_product_title(product_id):\n",
    "    \"\"\"\n",
    "    Takes in an ID, returns a title\n",
    "    \"\"\"\n",
    "    product_id = str(product_id)\n",
    "    return items.loc[product_id]['TITLE']"
   ]
  },
  {
   "cell_type": "markdown",
   "metadata": {},
   "source": [
    "## Getting Recommendations\n",
    "\n",
    "First we will render the recommendations again from the previous notebook:"
   ]
  },
  {
   "cell_type": "code",
   "execution_count": 21,
   "metadata": {},
   "outputs": [
    {
     "data": {
      "text/html": [
       "<div>\n",
       "<style scoped>\n",
       "    .dataframe tbody tr th:only-of-type {\n",
       "        vertical-align: middle;\n",
       "    }\n",
       "\n",
       "    .dataframe tbody tr th {\n",
       "        vertical-align: top;\n",
       "    }\n",
       "\n",
       "    .dataframe thead th {\n",
       "        text-align: right;\n",
       "    }\n",
       "</style>\n",
       "<table border=\"1\" class=\"dataframe\">\n",
       "  <thead>\n",
       "    <tr style=\"text-align: right;\">\n",
       "      <th></th>\n",
       "      <th>Item Description</th>\n",
       "    </tr>\n",
       "  </thead>\n",
       "  <tbody>\n",
       "    <tr>\n",
       "      <th>0</th>\n",
       "      <td>Rothco 550lb. Type III Nylon Paracord</td>\n",
       "    </tr>\n",
       "    <tr>\n",
       "      <th>1</th>\n",
       "      <td>Ultralight Backpacking Canister Camp Stove wit...</td>\n",
       "    </tr>\n",
       "    <tr>\n",
       "      <th>2</th>\n",
       "      <td>Emergency Mylar Thermal Blankets (Pack of 10)</td>\n",
       "    </tr>\n",
       "    <tr>\n",
       "      <th>3</th>\n",
       "      <td>Mirrycle MTB Bar End Mountain Bicycle Mirror</td>\n",
       "    </tr>\n",
       "    <tr>\n",
       "      <th>4</th>\n",
       "      <td>GSI Outdoors Glacier Stainless Bottle Cup/Pot</td>\n",
       "    </tr>\n",
       "    <tr>\n",
       "      <th>5</th>\n",
       "      <td>Serfas TCPG Bicycle Floor Pump</td>\n",
       "    </tr>\n",
       "    <tr>\n",
       "      <th>6</th>\n",
       "      <td>Light My Fire Titanium Spork</td>\n",
       "    </tr>\n",
       "    <tr>\n",
       "      <th>7</th>\n",
       "      <td>Outdoor Products 3-Pack Ultimate Dry Sack</td>\n",
       "    </tr>\n",
       "    <tr>\n",
       "      <th>8</th>\n",
       "      <td>LifeStraw Personal Water Filter</td>\n",
       "    </tr>\n",
       "    <tr>\n",
       "      <th>9</th>\n",
       "      <td>MetroFlash Safety Zone Tail Light</td>\n",
       "    </tr>\n",
       "    <tr>\n",
       "      <th>10</th>\n",
       "      <td>Buck 110BRS Fld Hunting 3-3/4&amp;quot;</td>\n",
       "    </tr>\n",
       "    <tr>\n",
       "      <th>11</th>\n",
       "      <td>Morakniv Companion Heavy Duty Knife with Sandv...</td>\n",
       "    </tr>\n",
       "    <tr>\n",
       "      <th>12</th>\n",
       "      <td>Dr. Bronner 18-in-1 Pure-Castile Soap, Hemp Al...</td>\n",
       "    </tr>\n",
       "    <tr>\n",
       "      <th>13</th>\n",
       "      <td>Hydro Flask Insulated Stainless Steel Water Bo...</td>\n",
       "    </tr>\n",
       "    <tr>\n",
       "      <th>14</th>\n",
       "      <td>Sawyer Products Mini Water Filtration System</td>\n",
       "    </tr>\n",
       "    <tr>\n",
       "      <th>15</th>\n",
       "      <td>Jaws Quick Spit Antifog Spray, 1-Ounce</td>\n",
       "    </tr>\n",
       "    <tr>\n",
       "      <th>16</th>\n",
       "      <td>Park Tool MLP-1 Master Link Pliers</td>\n",
       "    </tr>\n",
       "    <tr>\n",
       "      <th>17</th>\n",
       "      <td>Kershaw 1555TI Cryo SpeedSafe Folding Knife</td>\n",
       "    </tr>\n",
       "    <tr>\n",
       "      <th>18</th>\n",
       "      <td>Camelbak Podium Big Chill 25 oz Bottle</td>\n",
       "    </tr>\n",
       "    <tr>\n",
       "      <th>19</th>\n",
       "      <td>Vitalsox Graduated Compression Performance Pat...</td>\n",
       "    </tr>\n",
       "    <tr>\n",
       "      <th>20</th>\n",
       "      <td>Esbit Ultralight Folding Pocket Stove with Six...</td>\n",
       "    </tr>\n",
       "    <tr>\n",
       "      <th>21</th>\n",
       "      <td>QuikClot Sport, Advanced Clotting Sponge 25G</td>\n",
       "    </tr>\n",
       "    <tr>\n",
       "      <th>22</th>\n",
       "      <td>Two Fish Unlimited Flashlite Holder</td>\n",
       "    </tr>\n",
       "    <tr>\n",
       "      <th>23</th>\n",
       "      <td>Coleman Cable 02308 16/3 Vinyl Outdoor Extensi...</td>\n",
       "    </tr>\n",
       "    <tr>\n",
       "      <th>24</th>\n",
       "      <td>Cold Steel 80PGTK GI Tanto 7&amp;quot; Carbon</td>\n",
       "    </tr>\n",
       "  </tbody>\n",
       "</table>\n",
       "</div>"
      ],
      "text/plain": [
       "                                     Item Description\n",
       "0               Rothco 550lb. Type III Nylon Paracord\n",
       "1   Ultralight Backpacking Canister Camp Stove wit...\n",
       "2       Emergency Mylar Thermal Blankets (Pack of 10)\n",
       "3        Mirrycle MTB Bar End Mountain Bicycle Mirror\n",
       "4       GSI Outdoors Glacier Stainless Bottle Cup/Pot\n",
       "5                      Serfas TCPG Bicycle Floor Pump\n",
       "6                        Light My Fire Titanium Spork\n",
       "7           Outdoor Products 3-Pack Ultimate Dry Sack\n",
       "8                     LifeStraw Personal Water Filter\n",
       "9                   MetroFlash Safety Zone Tail Light\n",
       "10                Buck 110BRS Fld Hunting 3-3/4&quot;\n",
       "11  Morakniv Companion Heavy Duty Knife with Sandv...\n",
       "12  Dr. Bronner 18-in-1 Pure-Castile Soap, Hemp Al...\n",
       "13  Hydro Flask Insulated Stainless Steel Water Bo...\n",
       "14       Sawyer Products Mini Water Filtration System\n",
       "15             Jaws Quick Spit Antifog Spray, 1-Ounce\n",
       "16                 Park Tool MLP-1 Master Link Pliers\n",
       "17        Kershaw 1555TI Cryo SpeedSafe Folding Knife\n",
       "18             Camelbak Podium Big Chill 25 oz Bottle\n",
       "19  Vitalsox Graduated Compression Performance Pat...\n",
       "20  Esbit Ultralight Folding Pocket Stove with Six...\n",
       "21       QuikClot Sport, Advanced Clotting Sponge 25G\n",
       "22                Two Fish Unlimited Flashlite Holder\n",
       "23  Coleman Cable 02308 16/3 Vinyl Outdoor Extensi...\n",
       "24          Cold Steel 80PGTK GI Tanto 7&quot; Carbon"
      ]
     },
     "execution_count": 21,
     "metadata": {},
     "output_type": "execute_result"
    }
   ],
   "source": [
    "recommendations_df"
   ]
  },
  {
   "cell_type": "markdown",
   "metadata": {},
   "source": [
    "## Simulating User Behavior\n",
    "\n",
    "The lines below provide a code sample that simulates a user interacting with a particular item, you will then get recommendations that differ from those when you started."
   ]
  },
  {
   "cell_type": "code",
   "execution_count": 22,
   "metadata": {},
   "outputs": [],
   "source": [
    "session_dict = {}"
   ]
  },
  {
   "cell_type": "code",
   "execution_count": 23,
   "metadata": {},
   "outputs": [],
   "source": [
    "def send_product_click(USER_ID, ITEM_ID):\n",
    "    \"\"\"\n",
    "    Simulates a click as an envent\n",
    "    to send an event to Amazon Personalize's Event Tracker\n",
    "    \"\"\"\n",
    "    # Configure Session\n",
    "    try:\n",
    "        session_ID = session_dict[USER_ID]\n",
    "    except:\n",
    "        session_dict[USER_ID] = str(uuid.uuid1())\n",
    "        session_ID = session_dict[USER_ID]\n",
    "        \n",
    "    # Configure Properties:\n",
    "    event = {\n",
    "    \"itemId\": str(ITEM_ID),\n",
    "    }\n",
    "    event_json = json.dumps(event)\n",
    "    \n",
    "        \n",
    "    # Make Call\n",
    "    personalize_events.put_events(\n",
    "    trackingId = TRACKING_ID,\n",
    "    userId= USER_ID,\n",
    "    sessionId = session_ID,\n",
    "    eventList = [{\n",
    "         'sentAt': int(time.time()),\n",
    "         'eventType': 'EVENT_TYPE',\n",
    "         'properties': event_json\n",
    "         }]\n",
    ")"
   ]
  },
  {
   "cell_type": "markdown",
   "metadata": {},
   "source": [
    "Immediately below this line will update the tracker as if the user has clicked a particular title.\n",
    "\n",
    "\n",
    "If the table generated by the cells below does not shift the recommendations simply try another random 3 digit number in the cell above and run both cells again. You'll see a third column generated of recommendations."
   ]
  },
  {
   "cell_type": "code",
   "execution_count": 24,
   "metadata": {},
   "outputs": [],
   "source": [
    "# Pick a product_ID, we will use '1881509818'\n",
    "product_to_click = 1881509818\n",
    "product_title_clicked = get_product_title(product_to_click)\n",
    "send_product_click(USER_ID=str(user_id), ITEM_ID=product_to_click)"
   ]
  },
  {
   "cell_type": "markdown",
   "metadata": {},
   "source": [
    "After executing this block you will see the alterations in the recommendations now that you have event tracking enabled and that you have sent the events to the service."
   ]
  },
  {
   "cell_type": "code",
   "execution_count": 25,
   "metadata": {},
   "outputs": [
    {
     "name": "stdout",
     "output_type": "stream",
     "text": [
      "Recommendations for user:  A10CKY22VNWXHK\n"
     ]
    },
    {
     "data": {
      "text/html": [
       "<div>\n",
       "<style scoped>\n",
       "    .dataframe tbody tr th:only-of-type {\n",
       "        vertical-align: middle;\n",
       "    }\n",
       "\n",
       "    .dataframe tbody tr th {\n",
       "        vertical-align: top;\n",
       "    }\n",
       "\n",
       "    .dataframe thead th {\n",
       "        text-align: right;\n",
       "    }\n",
       "</style>\n",
       "<table border=\"1\" class=\"dataframe\">\n",
       "  <thead>\n",
       "    <tr style=\"text-align: right;\">\n",
       "      <th></th>\n",
       "      <th>Item Description</th>\n",
       "      <th>Ghost Inc Glock Armorers Tool 3/32 Punch</th>\n",
       "    </tr>\n",
       "  </thead>\n",
       "  <tbody>\n",
       "    <tr>\n",
       "      <th>0</th>\n",
       "      <td>Rothco 550lb. Type III Nylon Paracord</td>\n",
       "      <td>Ultralight Backpacking Canister Camp Stove wit...</td>\n",
       "    </tr>\n",
       "    <tr>\n",
       "      <th>1</th>\n",
       "      <td>Ultralight Backpacking Canister Camp Stove wit...</td>\n",
       "      <td>Vitalsox Graduated Compression Performance Pat...</td>\n",
       "    </tr>\n",
       "    <tr>\n",
       "      <th>2</th>\n",
       "      <td>Emergency Mylar Thermal Blankets (Pack of 10)</td>\n",
       "      <td>Rothco 550lb. Type III Nylon Paracord</td>\n",
       "    </tr>\n",
       "    <tr>\n",
       "      <th>3</th>\n",
       "      <td>Mirrycle MTB Bar End Mountain Bicycle Mirror</td>\n",
       "      <td>Fitbit Flex Wireless Activity + Sleep Wristban...</td>\n",
       "    </tr>\n",
       "    <tr>\n",
       "      <th>4</th>\n",
       "      <td>GSI Outdoors Glacier Stainless Bottle Cup/Pot</td>\n",
       "      <td>MetroFlash Safety Zone Tail Light</td>\n",
       "    </tr>\n",
       "    <tr>\n",
       "      <th>5</th>\n",
       "      <td>Serfas TCPG Bicycle Floor Pump</td>\n",
       "      <td>Mirrycle MTB Bar End Mountain Bicycle Mirror</td>\n",
       "    </tr>\n",
       "    <tr>\n",
       "      <th>6</th>\n",
       "      <td>Light My Fire Titanium Spork</td>\n",
       "      <td>Dr. Bronner 18-in-1 Pure-Castile Soap, Hemp Al...</td>\n",
       "    </tr>\n",
       "    <tr>\n",
       "      <th>7</th>\n",
       "      <td>Outdoor Products 3-Pack Ultimate Dry Sack</td>\n",
       "      <td>Tenn Waterproof Windproof Cycle Cycling Gloves...</td>\n",
       "    </tr>\n",
       "    <tr>\n",
       "      <th>8</th>\n",
       "      <td>LifeStraw Personal Water Filter</td>\n",
       "      <td>Shimano Hyperglide Chain (8 &amp;amp; 9 speed)</td>\n",
       "    </tr>\n",
       "    <tr>\n",
       "      <th>9</th>\n",
       "      <td>MetroFlash Safety Zone Tail Light</td>\n",
       "      <td>Vanguard Endeavor XF Angled Eyepiece Spotting ...</td>\n",
       "    </tr>\n",
       "    <tr>\n",
       "      <th>10</th>\n",
       "      <td>Buck 110BRS Fld Hunting 3-3/4&amp;quot;</td>\n",
       "      <td>2000lbs Anti Burst Exercise Stability Ball wit...</td>\n",
       "    </tr>\n",
       "    <tr>\n",
       "      <th>11</th>\n",
       "      <td>Morakniv Companion Heavy Duty Knife with Sandv...</td>\n",
       "      <td>Wellgo MG-1 Magnesium Sealed Platform Pedal</td>\n",
       "    </tr>\n",
       "    <tr>\n",
       "      <th>12</th>\n",
       "      <td>Dr. Bronner 18-in-1 Pure-Castile Soap, Hemp Al...</td>\n",
       "      <td>Serfas TCPG Bicycle Floor Pump</td>\n",
       "    </tr>\n",
       "    <tr>\n",
       "      <th>13</th>\n",
       "      <td>Hydro Flask Insulated Stainless Steel Water Bo...</td>\n",
       "      <td>Park Tool MLP-1 Master Link Pliers</td>\n",
       "    </tr>\n",
       "    <tr>\n",
       "      <th>14</th>\n",
       "      <td>Sawyer Products Mini Water Filtration System</td>\n",
       "      <td>Standard Lock-Jaw Collar</td>\n",
       "    </tr>\n",
       "    <tr>\n",
       "      <th>15</th>\n",
       "      <td>Jaws Quick Spit Antifog Spray, 1-Ounce</td>\n",
       "      <td>Coleman Cable 02308 16/3 Vinyl Outdoor Extensi...</td>\n",
       "    </tr>\n",
       "    <tr>\n",
       "      <th>16</th>\n",
       "      <td>Park Tool MLP-1 Master Link Pliers</td>\n",
       "      <td>Park Tool Crank Puller for Square Taper Cranks</td>\n",
       "    </tr>\n",
       "    <tr>\n",
       "      <th>17</th>\n",
       "      <td>Kershaw 1555TI Cryo SpeedSafe Folding Knife</td>\n",
       "      <td>Ispeed Mirror Pro Swim Goggle</td>\n",
       "    </tr>\n",
       "    <tr>\n",
       "      <th>18</th>\n",
       "      <td>Camelbak Podium Big Chill 25 oz Bottle</td>\n",
       "      <td>LifeStraw Personal Water Filter</td>\n",
       "    </tr>\n",
       "    <tr>\n",
       "      <th>19</th>\n",
       "      <td>Vitalsox Graduated Compression Performance Pat...</td>\n",
       "      <td>Sunlite Bicycle Tube, 700 x 18-23 (27 x 1) 32m...</td>\n",
       "    </tr>\n",
       "    <tr>\n",
       "      <th>20</th>\n",
       "      <td>Esbit Ultralight Folding Pocket Stove with Six...</td>\n",
       "      <td>K-Edge PRO Braze-On Chain Catcher</td>\n",
       "    </tr>\n",
       "    <tr>\n",
       "      <th>21</th>\n",
       "      <td>QuikClot Sport, Advanced Clotting Sponge 25G</td>\n",
       "      <td>BIKEHAND Cycle Pro Mechanic Bicycle Repair Sta...</td>\n",
       "    </tr>\n",
       "    <tr>\n",
       "      <th>22</th>\n",
       "      <td>Two Fish Unlimited Flashlite Holder</td>\n",
       "      <td>Energizer LED Pop Up 360 Area Lantern with Lig...</td>\n",
       "    </tr>\n",
       "    <tr>\n",
       "      <th>23</th>\n",
       "      <td>Coleman Cable 02308 16/3 Vinyl Outdoor Extensi...</td>\n",
       "      <td>Polar Bottle Insulated Water Bottle</td>\n",
       "    </tr>\n",
       "    <tr>\n",
       "      <th>24</th>\n",
       "      <td>Cold Steel 80PGTK GI Tanto 7&amp;quot; Carbon</td>\n",
       "      <td>Insta Raised Bed with Never Flat Pump</td>\n",
       "    </tr>\n",
       "  </tbody>\n",
       "</table>\n",
       "</div>"
      ],
      "text/plain": [
       "                                     Item Description  \\\n",
       "0               Rothco 550lb. Type III Nylon Paracord   \n",
       "1   Ultralight Backpacking Canister Camp Stove wit...   \n",
       "2       Emergency Mylar Thermal Blankets (Pack of 10)   \n",
       "3        Mirrycle MTB Bar End Mountain Bicycle Mirror   \n",
       "4       GSI Outdoors Glacier Stainless Bottle Cup/Pot   \n",
       "5                      Serfas TCPG Bicycle Floor Pump   \n",
       "6                        Light My Fire Titanium Spork   \n",
       "7           Outdoor Products 3-Pack Ultimate Dry Sack   \n",
       "8                     LifeStraw Personal Water Filter   \n",
       "9                   MetroFlash Safety Zone Tail Light   \n",
       "10                Buck 110BRS Fld Hunting 3-3/4&quot;   \n",
       "11  Morakniv Companion Heavy Duty Knife with Sandv...   \n",
       "12  Dr. Bronner 18-in-1 Pure-Castile Soap, Hemp Al...   \n",
       "13  Hydro Flask Insulated Stainless Steel Water Bo...   \n",
       "14       Sawyer Products Mini Water Filtration System   \n",
       "15             Jaws Quick Spit Antifog Spray, 1-Ounce   \n",
       "16                 Park Tool MLP-1 Master Link Pliers   \n",
       "17        Kershaw 1555TI Cryo SpeedSafe Folding Knife   \n",
       "18             Camelbak Podium Big Chill 25 oz Bottle   \n",
       "19  Vitalsox Graduated Compression Performance Pat...   \n",
       "20  Esbit Ultralight Folding Pocket Stove with Six...   \n",
       "21       QuikClot Sport, Advanced Clotting Sponge 25G   \n",
       "22                Two Fish Unlimited Flashlite Holder   \n",
       "23  Coleman Cable 02308 16/3 Vinyl Outdoor Extensi...   \n",
       "24          Cold Steel 80PGTK GI Tanto 7&quot; Carbon   \n",
       "\n",
       "             Ghost Inc Glock Armorers Tool 3/32 Punch  \n",
       "0   Ultralight Backpacking Canister Camp Stove wit...  \n",
       "1   Vitalsox Graduated Compression Performance Pat...  \n",
       "2               Rothco 550lb. Type III Nylon Paracord  \n",
       "3   Fitbit Flex Wireless Activity + Sleep Wristban...  \n",
       "4                   MetroFlash Safety Zone Tail Light  \n",
       "5        Mirrycle MTB Bar End Mountain Bicycle Mirror  \n",
       "6   Dr. Bronner 18-in-1 Pure-Castile Soap, Hemp Al...  \n",
       "7   Tenn Waterproof Windproof Cycle Cycling Gloves...  \n",
       "8          Shimano Hyperglide Chain (8 &amp; 9 speed)  \n",
       "9   Vanguard Endeavor XF Angled Eyepiece Spotting ...  \n",
       "10  2000lbs Anti Burst Exercise Stability Ball wit...  \n",
       "11        Wellgo MG-1 Magnesium Sealed Platform Pedal  \n",
       "12                     Serfas TCPG Bicycle Floor Pump  \n",
       "13                 Park Tool MLP-1 Master Link Pliers  \n",
       "14                           Standard Lock-Jaw Collar  \n",
       "15  Coleman Cable 02308 16/3 Vinyl Outdoor Extensi...  \n",
       "16     Park Tool Crank Puller for Square Taper Cranks  \n",
       "17                      Ispeed Mirror Pro Swim Goggle  \n",
       "18                    LifeStraw Personal Water Filter  \n",
       "19  Sunlite Bicycle Tube, 700 x 18-23 (27 x 1) 32m...  \n",
       "20                  K-Edge PRO Braze-On Chain Catcher  \n",
       "21  BIKEHAND Cycle Pro Mechanic Bicycle Repair Sta...  \n",
       "22  Energizer LED Pop Up 360 Area Lantern with Lig...  \n",
       "23                Polar Bottle Insulated Water Bottle  \n",
       "24              Insta Raised Bed with Never Flat Pump  "
      ]
     },
     "execution_count": 25,
     "metadata": {},
     "output_type": "execute_result"
    }
   ],
   "source": [
    "get_recommendations_response = personalize_runtime.get_recommendations(\n",
    "    campaignArn = campaign_arn,\n",
    "    userId = str(user_id),\n",
    ")\n",
    "\n",
    "print(\"Recommendations for user: \", user_id)\n",
    "\n",
    "item_list = get_recommendations_response['itemList']\n",
    "\n",
    "recommendation_list = []\n",
    "\n",
    "for item in item_list:\n",
    "    title = get_product_title(item['itemId'])\n",
    "    recommendation_list.append(title)\n",
    "    \n",
    "new_rec_DF = pd.DataFrame(recommendation_list, columns = [product_title_clicked])\n",
    "\n",
    "recommendations_df = recommendations_df.join(new_rec_DF)\n",
    "recommendations_df"
   ]
  },
  {
   "cell_type": "markdown",
   "metadata": {},
   "source": [
    "## Conclusion\n",
    "\n",
    "You can see now that recommendations are altered by changing the movie that a user interacts with, this system can be modified to any application where users are interacting with a collection of items. These tools are available at any time to pull down and start exploring what is possible with the data you have.\n",
    "\n",
    "Execute the cell below to store values needed for the cleanup notebook.\n",
    "\n",
    "Finally when you are ready to remove the items from your account, open the `Cleanup.ipynb` notebook and execute the steps there.\n"
   ]
  },
  {
   "cell_type": "code",
   "execution_count": 26,
   "metadata": {},
   "outputs": [
    {
     "name": "stdout",
     "output_type": "stream",
     "text": [
      "Stored 'event_tracker_arn' (str)\n"
     ]
    }
   ],
   "source": [
    "%store event_tracker_arn"
   ]
  },
  {
   "cell_type": "code",
   "execution_count": null,
   "metadata": {},
   "outputs": [],
   "source": []
  },
  {
   "cell_type": "code",
   "execution_count": null,
   "metadata": {},
   "outputs": [],
   "source": []
  }
 ],
 "metadata": {
  "kernelspec": {
   "display_name": "conda_python3",
   "language": "python",
   "name": "conda_python3"
  },
  "language_info": {
   "codemirror_mode": {
    "name": "ipython",
    "version": 3
   },
   "file_extension": ".py",
   "mimetype": "text/x-python",
   "name": "python",
   "nbconvert_exporter": "python",
   "pygments_lexer": "ipython3",
   "version": "3.6.5"
  }
 },
 "nbformat": 4,
 "nbformat_minor": 4
}
